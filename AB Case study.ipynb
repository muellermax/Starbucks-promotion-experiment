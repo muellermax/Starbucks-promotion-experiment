{
 "cells": [
  {
   "cell_type": "code",
   "execution_count": 30,
   "metadata": {},
   "outputs": [],
   "source": [
    "import pandas as pd\n",
    "import numpy as np\n",
    "import scipy.stats as stats\n",
    "from scipy.stats import ttest_ind\n",
    "from statsmodels.stats import weightstats as stests\n",
    "from scipy.stats import ttest_1samp\n",
    "\n",
    "\n",
    "experiment = pd.read_csv('homepage-experiment-data.csv')"
   ]
  },
  {
   "cell_type": "code",
   "execution_count": 4,
   "metadata": {},
   "outputs": [
    {
     "data": {
      "text/html": [
       "<div>\n",
       "<style scoped>\n",
       "    .dataframe tbody tr th:only-of-type {\n",
       "        vertical-align: middle;\n",
       "    }\n",
       "\n",
       "    .dataframe tbody tr th {\n",
       "        vertical-align: top;\n",
       "    }\n",
       "\n",
       "    .dataframe thead th {\n",
       "        text-align: right;\n",
       "    }\n",
       "</style>\n",
       "<table border=\"1\" class=\"dataframe\">\n",
       "  <thead>\n",
       "    <tr style=\"text-align: right;\">\n",
       "      <th></th>\n",
       "      <th>Day</th>\n",
       "      <th>Control Cookies</th>\n",
       "      <th>Control Downloads</th>\n",
       "      <th>Control Licenses</th>\n",
       "      <th>Experiment Cookies</th>\n",
       "      <th>Experiment Downloads</th>\n",
       "      <th>Experiment Licenses</th>\n",
       "    </tr>\n",
       "  </thead>\n",
       "  <tbody>\n",
       "    <tr>\n",
       "      <th>0</th>\n",
       "      <td>1</td>\n",
       "      <td>1764</td>\n",
       "      <td>246</td>\n",
       "      <td>1</td>\n",
       "      <td>1850</td>\n",
       "      <td>339</td>\n",
       "      <td>3</td>\n",
       "    </tr>\n",
       "    <tr>\n",
       "      <th>1</th>\n",
       "      <td>2</td>\n",
       "      <td>1541</td>\n",
       "      <td>234</td>\n",
       "      <td>2</td>\n",
       "      <td>1590</td>\n",
       "      <td>281</td>\n",
       "      <td>2</td>\n",
       "    </tr>\n",
       "    <tr>\n",
       "      <th>2</th>\n",
       "      <td>3</td>\n",
       "      <td>1457</td>\n",
       "      <td>240</td>\n",
       "      <td>1</td>\n",
       "      <td>1515</td>\n",
       "      <td>274</td>\n",
       "      <td>1</td>\n",
       "    </tr>\n",
       "    <tr>\n",
       "      <th>3</th>\n",
       "      <td>4</td>\n",
       "      <td>1587</td>\n",
       "      <td>224</td>\n",
       "      <td>1</td>\n",
       "      <td>1541</td>\n",
       "      <td>284</td>\n",
       "      <td>2</td>\n",
       "    </tr>\n",
       "    <tr>\n",
       "      <th>4</th>\n",
       "      <td>5</td>\n",
       "      <td>1606</td>\n",
       "      <td>253</td>\n",
       "      <td>2</td>\n",
       "      <td>1643</td>\n",
       "      <td>292</td>\n",
       "      <td>3</td>\n",
       "    </tr>\n",
       "  </tbody>\n",
       "</table>\n",
       "</div>"
      ],
      "text/plain": [
       "   Day  Control Cookies  Control Downloads  Control Licenses  \\\n",
       "0    1             1764                246                 1   \n",
       "1    2             1541                234                 2   \n",
       "2    3             1457                240                 1   \n",
       "3    4             1587                224                 1   \n",
       "4    5             1606                253                 2   \n",
       "\n",
       "   Experiment Cookies  Experiment Downloads  Experiment Licenses  \n",
       "0                1850                   339                    3  \n",
       "1                1590                   281                    2  \n",
       "2                1515                   274                    1  \n",
       "3                1541                   284                    2  \n",
       "4                1643                   292                    3  "
      ]
     },
     "execution_count": 4,
     "metadata": {},
     "output_type": "execute_result"
    }
   ],
   "source": [
    "experiment.head()"
   ]
  },
  {
   "cell_type": "code",
   "execution_count": 8,
   "metadata": {},
   "outputs": [
    {
     "name": "stdout",
     "output_type": "stream",
     "text": [
      "1615.551724137931\n",
      "114.28536160129036\n",
      "1632.6206896551723\n",
      "111.06053453211389\n"
     ]
    }
   ],
   "source": [
    "mean_control = np.mean(experiment['Control Cookies'])\n",
    "mean_experiment = np.mean(experiment['Experiment Cookies'])\n",
    "\n",
    "std_control = np.std(experiment['Control Cookies'])\n",
    "std_experiment = np.std(experiment['Experiment Cookies'])\n",
    "\n",
    "\n",
    "print(mean_control)\n",
    "print(std_control)\n",
    "\n",
    "print(mean_experiment)\n",
    "print(std_experiment)"
   ]
  },
  {
   "cell_type": "code",
   "execution_count": 33,
   "metadata": {},
   "outputs": [
    {
     "name": "stdout",
     "output_type": "stream",
     "text": [
      "p-value 0.5731350217922668\n"
     ]
    }
   ],
   "source": [
    "# Two sampled TTest\n",
    "ttest,pval = ttest_ind(experiment['Control Cookies'].values, experiment['Experiment Cookies'].values)\n",
    "print(\"p-value\",pval)"
   ]
  },
  {
   "cell_type": "code",
   "execution_count": 22,
   "metadata": {},
   "outputs": [
    {
     "name": "stdout",
     "output_type": "stream",
     "text": [
      "0.570870241259699\n"
     ]
    }
   ],
   "source": [
    "# Two samples ZTest\n",
    "ztest, pval1 = stests.ztest(experiment['Control Cookies'], x2=experiment['Experiment Cookies'], value=0,alternative='two-sided')\n",
    "print(float(pval1))"
   ]
  },
  {
   "cell_type": "code",
   "execution_count": 26,
   "metadata": {},
   "outputs": [
    {
     "name": "stdout",
     "output_type": "stream",
     "text": [
      "46851\n",
      "94197\n"
     ]
    }
   ],
   "source": [
    "#Udactiy approach for checking differences in Invariant variable: -- vielleicht nur bei absoluten Zahlen? \n",
    "# N_Control = Cookies in der Kontrollgruppe\n",
    "# N_obs =  Total Cookies\n",
    "\n",
    "n_control = experiment['Control Cookies'].sum()\n",
    "print(n_control)\n",
    "\n",
    "n_obs = experiment['Experiment Cookies'].sum() + n_control\n",
    "print(n_obs)"
   ]
  },
  {
   "cell_type": "code",
   "execution_count": 27,
   "metadata": {},
   "outputs": [
    {
     "name": "stdout",
     "output_type": "stream",
     "text": [
      "-1.6095646049678511\n",
      "0.10749294050130412\n"
     ]
    }
   ],
   "source": [
    "# get number of trials and number of 'successes'\n",
    "\n",
    "# Compute a z-score and p-value\n",
    "p = 0.5\n",
    "sd = np.sqrt(p * (1-p) * n_obs)\n",
    "\n",
    "z = ((n_control + 0.5) - p * n_obs) / sd\n",
    "\n",
    "print(z)\n",
    "print(2 * stats.norm.cdf(z))"
   ]
  },
  {
   "cell_type": "code",
   "execution_count": 59,
   "metadata": {},
   "outputs": [
    {
     "name": "stdout",
     "output_type": "stream",
     "text": [
      "0.180543234908968\n",
      "0.16123455209067042\n",
      "0.01930868281829759\n"
     ]
    }
   ],
   "source": [
    "\n",
    "# Evaluation metrics\n",
    "# The download rate is the total number of downloads divided by the number of cookies, \n",
    "# and the license purchasing rate the number of licenses divided by the number of cookies.\n",
    "\n",
    "download_rate_exp = experiment['Experiment Downloads'].sum() / experiment['Experiment Cookies'].sum()\n",
    "print(download_rate_exp)\n",
    "\n",
    "download_rate_con = experiment['Control Downloads'].sum() / experiment['Control Cookies'].sum()\n",
    "print(download_rate_con)\n",
    "\n",
    "print(download_rate_exp - download_rate_con)"
   ]
  },
  {
   "cell_type": "code",
   "execution_count": 61,
   "metadata": {},
   "outputs": [
    {
     "name": "stdout",
     "output_type": "stream",
     "text": [
      "46851\n",
      "47346\n",
      "0.16123455209067042\n",
      "8.05723199177085\n",
      "4.440892098500626e-16\n"
     ]
    }
   ],
   "source": [
    "# Analytic approach following Udacity\n",
    "\n",
    "# get number of trials and overall 'success' rate under null\n",
    "n_control = experiment['Control Cookies'].sum()\n",
    "n_exper = experiment['Experiment Cookies'].sum()\n",
    "p_null = download_rate_con\n",
    "\n",
    "print(n_control)\n",
    "print(n_exper)\n",
    "print(p_null)\n",
    "\n",
    "# compute standard error, z-score, and p-value\n",
    "se_p = np.sqrt(p_null * (1-p_null) * (1/n_control + 1/n_exper))\n",
    "\n",
    "z = (download_rate_exp - download_rate_con) / se_p\n",
    "print(z)\n",
    "print(1-stats.norm.cdf(z))"
   ]
  },
  {
   "cell_type": "code",
   "execution_count": 68,
   "metadata": {},
   "outputs": [
    {
     "name": "stdout",
     "output_type": "stream",
     "text": [
      "0.16123455209067042\n",
      "0.180543234908968\n",
      "z =  8.05723199177085\n",
      "p =  4.440892098500626e-16\n"
     ]
    }
   ],
   "source": [
    "# Code von einem \"Mentor\", komme allerdings auf das gleiche Ergebnis. \n",
    "\n",
    "\n",
    "data=experiment.copy()\n",
    "\n",
    "n_control = data['Control Cookies'].sum()\n",
    "n_experiment = data['Experiment Cookies'].sum()\n",
    "\n",
    "n_control_downloads = data['Control Downloads'].sum()\n",
    "p_control_downloads = n_control_downloads / data['Control Cookies'].sum() #n_control    # p_null\n",
    "print(p_control_downloads)\n",
    "\n",
    "#print('p_control_downloads = ', p_control_downloads)\n",
    "\n",
    "n_experiment_downloads = data['Experiment Downloads'].sum()\n",
    "p_experiment_downloads = n_experiment_downloads / data['Experiment Cookies'].sum() #n_experiment\n",
    "#print('p_experiment_downloads = ', p_experiment_downloads)\n",
    "print(p_experiment_downloads)\n",
    "\n",
    "#Compute standard error, z-score, and p-value\n",
    "se_p = np.sqrt(p_control_downloads * (1 - p_control_downloads) * (1 / n_control + 1 / n_experiment))\n",
    "z = (p_experiment_downloads - p_control_downloads) / se_p\n",
    "print('z = ', z)\n",
    "print('p = ', 1 - stats.norm.cdf(z))"
   ]
  },
  {
   "cell_type": "code",
   "execution_count": null,
   "metadata": {},
   "outputs": [],
   "source": []
  }
 ],
 "metadata": {
  "kernelspec": {
   "display_name": "Python 3",
   "language": "python",
   "name": "python3"
  },
  "language_info": {
   "codemirror_mode": {
    "name": "ipython",
    "version": 3
   },
   "file_extension": ".py",
   "mimetype": "text/x-python",
   "name": "python",
   "nbconvert_exporter": "python",
   "pygments_lexer": "ipython3",
   "version": "3.7.6"
  }
 },
 "nbformat": 4,
 "nbformat_minor": 2
}
